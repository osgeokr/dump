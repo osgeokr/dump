{
 "cells": [
  {
   "cell_type": "code",
   "execution_count": 1,
   "metadata": {},
   "outputs": [],
   "source": [
    "# 라이브러리 추가\n",
    "import requests; from urllib.parse import urlparse\n",
    "import pandas as pd\n",
    "import geopandas"
   ]
  },
  {
   "cell_type": "code",
   "execution_count": 3,
   "metadata": {},
   "outputs": [
    {
     "name": "stdout",
     "output_type": "stream",
     "text": [
      "{'meta': {'is_end': True, 'pageable_count': 1, 'total_count': 1}, 'documents': [{'y': '37.33698555530167', 'road_address': {'region_2depth_name': '원주시', 'main_building_no': '171', 'building_name': '국립공원연구원', 'address_name': '강원 원주시 단구로 171', 'undergroun_yn': 'N', 'zone_no': '26441', 'x': '127.9477445454879', 'underground_yn': 'N', 'road_name': '단구로', 'y': '37.33698555530167', 'region_1depth_name': '강원', 'region_3depth_name': '명륜동', 'sub_building_no': ''}, 'address_type': 'ROAD_ADDR', 'address_name': '강원 원주시 단구로 171', 'address': {'main_address_no': '242', 'sub_adderss_no': '2', 'h_code': '4213054100', 'sub_address_no': '2', 'zip_code': '220947', 'address_name': '강원 원주시 명륜동 242-2', 'x': '127.94787953303228', 'main_adderss_no': '242', 'y': '37.33695203787654', 'region_3depth_h_name': '명륜1동', 'region_2depth_name': '원주시', 'region_1depth_name': '강원', 'b_code': '4213010600', 'region_3depth_name': '명륜동', 'mountain_yn': 'N'}, 'x': '127.9477445454879'}]}\n"
     ]
    }
   ],
   "source": [
    "# 카카오맵 주소 검색 API: https://developers.kakao.com/docs/restapi/local#주소-검색\n",
    "address = \"강원 원주시 단구로 171\"\n",
    "url = \"https://dapi.kakao.com/v2/local/search/address.json?&query=\" + address\n",
    "result = requests.get(urlparse(url).geturl(),\n",
    "                      headers={\"Authorization\":\"KakaoAK 57bb1cdf403802631778c8835c733a89\"})\n",
    "json_obj = result.json()\n",
    "print(json_obj)"
   ]
  },
  {
   "cell_type": "code",
   "execution_count": 4,
   "metadata": {},
   "outputs": [
    {
     "data": {
      "text/html": [
       "<div>\n",
       "<style scoped>\n",
       "    .dataframe tbody tr th:only-of-type {\n",
       "        vertical-align: middle;\n",
       "    }\n",
       "\n",
       "    .dataframe tbody tr th {\n",
       "        vertical-align: top;\n",
       "    }\n",
       "\n",
       "    .dataframe thead th {\n",
       "        text-align: right;\n",
       "    }\n",
       "</style>\n",
       "<table border=\"1\" class=\"dataframe\">\n",
       "  <thead>\n",
       "    <tr style=\"text-align: right;\">\n",
       "      <th></th>\n",
       "      <th>building_name</th>\n",
       "      <th>address_name</th>\n",
       "      <th>lat</th>\n",
       "      <th>lon</th>\n",
       "    </tr>\n",
       "  </thead>\n",
       "  <tbody>\n",
       "    <tr>\n",
       "      <th>0</th>\n",
       "      <td>국립공원연구원</td>\n",
       "      <td>강원 원주시 단구로 171</td>\n",
       "      <td>37.33698555530167</td>\n",
       "      <td>127.9477445454879</td>\n",
       "    </tr>\n",
       "  </tbody>\n",
       "</table>\n",
       "</div>"
      ],
      "text/plain": [
       "  building_name    address_name                lat                lon\n",
       "0       국립공원연구원  강원 원주시 단구로 171  37.33698555530167  127.9477445454879"
      ]
     },
     "execution_count": 4,
     "metadata": {},
     "output_type": "execute_result"
    }
   ],
   "source": [
    "# 검색 결과 정렬\n",
    "list = []\n",
    "for document in json_obj['documents']:\n",
    "    val = [document['road_address']['building_name'], document['address_name'], document['y'], document['x']]\n",
    "    list.append(val)\n",
    "    \n",
    "df = pd.DataFrame(list, columns = ['building_name', 'address_name', 'lat', 'lon'])\n",
    "df"
   ]
  },
  {
   "cell_type": "code",
   "execution_count": 5,
   "metadata": {},
   "outputs": [
    {
     "data": {
      "text/html": [
       "<div>\n",
       "<style scoped>\n",
       "    .dataframe tbody tr th:only-of-type {\n",
       "        vertical-align: middle;\n",
       "    }\n",
       "\n",
       "    .dataframe tbody tr th {\n",
       "        vertical-align: top;\n",
       "    }\n",
       "\n",
       "    .dataframe thead th {\n",
       "        text-align: right;\n",
       "    }\n",
       "</style>\n",
       "<table border=\"1\" class=\"dataframe\">\n",
       "  <thead>\n",
       "    <tr style=\"text-align: right;\">\n",
       "      <th></th>\n",
       "    </tr>\n",
       "  </thead>\n",
       "  <tbody>\n",
       "  </tbody>\n",
       "</table>\n",
       "</div>"
      ],
      "text/plain": [
       "Empty DataFrame\n",
       "Columns: []\n",
       "Index: []"
      ]
     },
     "execution_count": 5,
     "metadata": {},
     "output_type": "execute_result"
    }
   ],
   "source": [
    "# 주소 목록 xlsx 파일 읽기\n",
    "df = pd.read_excel('D:/GEODATA/OFF_ADR.xlsx', sheet_name='Sheet1')\n",
    "df"
   ]
  },
  {
   "cell_type": "code",
   "execution_count": null,
   "metadata": {},
   "outputs": [],
   "source": [
    "# 주소 검색 함수 정의\n",
    "def address_to_latlon(address):\n",
    "    url = \"https://dapi.kakao.com/v2/local/search/address.json?&query=\" + address\n",
    "    result = requests.get(urlparse(url).geturl(),\n",
    "                          headers={\"Authorization\":\"KakaoAK 4d25f7ae6c4cab6bc96c746280e403af\"})\n",
    "    json_obj = result.json()\n",
    "    for document in json_obj['documents']:\n",
    "        val = [document['road_address']['building_name'], document['address_name'], document['y'], document['x']]\n",
    "    return val"
   ]
  },
  {
   "cell_type": "code",
   "execution_count": null,
   "metadata": {},
   "outputs": [],
   "source": [
    "# 주소 검색 함수 적용\n",
    "address_to_latlon(\"강원 원주시 단구로 171\")"
   ]
  },
  {
   "cell_type": "code",
   "execution_count": null,
   "metadata": {},
   "outputs": [],
   "source": [
    "# 주소 검색 함수 반복 적용\n",
    "list = []\n",
    "for address in df['도로명주소']:\n",
    "    list.append(address_to_latlon(address))\n",
    "    \n",
    "df1 = pd.DataFrame(list, columns = ['building_name', 'address_name', 'lat', 'lon'])\n",
    "df1.head()"
   ]
  },
  {
   "cell_type": "code",
   "execution_count": null,
   "metadata": {},
   "outputs": [],
   "source": [
    "# 컬럼 값 수정\n",
    "df1['office_name'] = df['지자체명']\n",
    "df1.head()"
   ]
  },
  {
   "cell_type": "code",
   "execution_count": null,
   "metadata": {},
   "outputs": [],
   "source": [
    "# xlsx 파일로 저장\n",
    "df1.to_excel('D:/GEODATA/NLPRK_OFF_LATLON.xlsx')"
   ]
  },
  {
   "cell_type": "code",
   "execution_count": null,
   "metadata": {},
   "outputs": [],
   "source": [
    "# Shapefile로 저장\n",
    "geometry=geopandas.points_from_xy(df1.lon.astype(float), df1.lat.astype(float))\n",
    "gdf = geopandas.GeoDataFrame(df1, geometry=geometry)\n",
    "gdf.crs= \"+init=epsg:4326\"\n",
    "gdf.to_file('D:/GEODATA/NLPRK_OFF_LATLON.shp', driver='ESRI Shapefile', encoding='utf-8')"
   ]
  },
  {
   "cell_type": "code",
   "execution_count": null,
   "metadata": {},
   "outputs": [],
   "source": []
  }
 ],
 "metadata": {
  "kernelspec": {
   "display_name": "Python 3",
   "language": "python",
   "name": "python3"
  },
  "language_info": {
   "codemirror_mode": {
    "name": "ipython",
    "version": 3
   },
   "file_extension": ".py",
   "mimetype": "text/x-python",
   "name": "python",
   "nbconvert_exporter": "python",
   "pygments_lexer": "ipython3",
   "version": "3.5.4"
  }
 },
 "nbformat": 4,
 "nbformat_minor": 2
}
